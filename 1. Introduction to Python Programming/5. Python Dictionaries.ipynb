{
 "cells": [
  {
   "cell_type": "markdown",
   "metadata": {},
   "source": [
    "# Data Structures in Python\n",
    "\n",
    "1. List\n",
    "2. Tuple\n",
    "3. Dictionaries\n",
    "4. Set"
   ]
  },
  {
   "attachments": {
    "5. Python Dictionary.jpg": {
     "image/jpeg": "[encoded data removed]"
    }
   },
   "cell_type": "markdown",
   "metadata": {},
   "source": [
    "## 3- Dictionaries\n",
    "\"A dictionary stores a collection of key-value pairs, where key and value are Python objects. Each key is associated with a value so that a value can be conveniently retrieved, inserted, modified, or deleted given a particular key.\"\n",
    "- key & value (key value pair)\n",
    "    - Key acts like an index like we seen in list\n",
    "    - value is the data \n",
    "- curly braces is used {} & colon : sign is used to separate keys and values\n",
    "- Value can be changed in dictionaries once defined(mutable)\n",
    "\n",
    "![5. Python Dictionary.jpg](<attachment:5. Python Dictionary.jpg>)"
   ]
  },
  {
   "cell_type": "markdown",
   "metadata": {},
   "source": [
    "### How to Create a Dictionary in Python?"
   ]
  },
  {
   "cell_type": "markdown",
   "metadata": {},
   "source": [
    "#### Method-1"
   ]
  },
  {
   "cell_type": "code",
   "execution_count": 4,
   "metadata": {},
   "outputs": [
    {
     "data": {
      "text/plain": [
       "{'key_1': 3.14,\n",
       " 'key_2': 1.618,\n",
       " 'key_3': True,\n",
       " 'key_4': [3.14, 1.618],\n",
       " 'key_5': (3.14, 1.618),\n",
       " 'key_6': 2022,\n",
       " (3.14, 1.618): 'pi and golden ratio'}"
      ]
     },
     "execution_count": 4,
     "metadata": {},
     "output_type": "execute_result"
    }
   ],
   "source": [
    "sample_dict = {'key_1': 3.14, 'key_2': 1.618, 'key_3': True, 'key_4': [3.14, 1.618],\n",
    "                'key_5': (3.14, 1.618), 'key_6': 2022, (3.14, 1.618): 'pi and golden ratio'}\n",
    "sample_dict"
   ]
  },
  {
   "cell_type": "markdown",
   "metadata": {},
   "source": [
    "##### **Note:** As you see that the whole dictionary is enclosed in curly braces, each key is separated from its value by a column \":\", and commas are used to separate the items in the dictionary."
   ]
  },
  {
   "cell_type": "markdown",
   "metadata": {},
   "source": [
    "#### Method-2\n",
    " - dict() function: This function is used to create a dictionary"
   ]
  },
  {
   "cell_type": "code",
   "execution_count": 40,
   "metadata": {},
   "outputs": [
    {
     "data": {
      "text/plain": [
       "{'family': 'music', 'type': 'pop', 'year': '2022', 'name': 'happy new year'}"
      ]
     },
     "execution_count": 40,
     "metadata": {},
     "output_type": "execute_result"
    }
   ],
   "source": [
    "dict_sample = dict(family = 'music', type='pop', year='2022' , name='happy new year')\n",
    "dict_sample"
   ]
  },
  {
   "cell_type": "markdown",
   "metadata": {},
   "source": [
    "#### Accessing to the value using the key"
   ]
  },
  {
   "cell_type": "code",
   "execution_count": 44,
   "metadata": {},
   "outputs": [
    {
     "name": "stdout",
     "output_type": "stream",
     "text": [
      "3.14\n",
      "1.618\n",
      "pi and golden ratio\n"
     ]
    }
   ],
   "source": [
    "print(sample_dict['key_1'])\n",
    "print(sample_dict['key_2'])\n",
    "print(sample_dict[(3.14, 1.618)]) # Keys can be any immutable object like tuple"
   ]
  },
  {
   "cell_type": "code",
   "execution_count": 45,
   "metadata": {},
   "outputs": [
    {
     "name": "stdout",
     "output_type": "stream",
     "text": [
      "music\n"
     ]
    }
   ],
   "source": [
    "print(dict_sample['family'])"
   ]
  },
  {
   "cell_type": "code",
   "execution_count": 41,
   "metadata": {},
   "outputs": [
    {
     "ename": "KeyError",
     "evalue": "1",
     "output_type": "error",
     "traceback": [
      "\u001b[1;31m---------------------------------------------------------------------------\u001b[0m",
      "\u001b[1;31mKeyError\u001b[0m                                  Traceback (most recent call last)",
      "\u001b[1;32me:\\1. University Teaching Data\\9. PU-CSAS\\2. Python Programming for Data Analysis\\5. Python Dictionaries.ipynb Cell 11\u001b[0m line \u001b[0;36m2\n\u001b[0;32m      <a href='vscode-notebook-cell:/e%3A/1.%20University%20Teaching%20Data/9.%20PU-CSAS/2.%20Python%20Programming%20for%20Data%20Analysis/5.%20Python%20Dictionaries.ipynb#X44sZmlsZQ%3D%3D?line=0'>1</a>\u001b[0m \u001b[39m# Numerical index is not used to take the dictionary values. It gives a KeyError\u001b[39;00m\n\u001b[1;32m----> <a href='vscode-notebook-cell:/e%3A/1.%20University%20Teaching%20Data/9.%20PU-CSAS/2.%20Python%20Programming%20for%20Data%20Analysis/5.%20Python%20Dictionaries.ipynb#X44sZmlsZQ%3D%3D?line=1'>2</a>\u001b[0m dict_sample[\u001b[39m1\u001b[39;49m]\n",
      "\u001b[1;31mKeyError\u001b[0m: 1"
     ]
    }
   ],
   "source": [
    "# Numerical index is not used to take the dictionary values. It gives a KeyError\n",
    "dict_sample[1]"
   ]
  },
  {
   "cell_type": "code",
   "execution_count": 23,
   "metadata": {},
   "outputs": [
    {
     "name": "stdout",
     "output_type": "stream",
     "text": [
      "Dictionary:  {'a': 'some value', 'b': [1, 2, 3, 4], 'cat': 50, 'door': 60}\n",
      "Type:  <class 'dict'>\n"
     ]
    }
   ],
   "source": [
    "d1 = {\"a\": \"some value\", \"b\": [1, 2, 3, 4], 'cat':50, 'door':60} # Creatubg dictionary\n",
    "print(\"Dictionary: \", d1)   # printing\n",
    "print(\"Type: \", type(d1)) # checking type"
   ]
  },
  {
   "cell_type": "markdown",
   "metadata": {},
   "source": [
    "### Methods of dictionaries"
   ]
  },
  {
   "cell_type": "markdown",
   "metadata": {},
   "source": [
    "##### keys() function to get the keys in the dictionary"
   ]
  },
  {
   "cell_type": "code",
   "execution_count": 11,
   "metadata": {},
   "outputs": [
    {
     "name": "stdout",
     "output_type": "stream",
     "text": [
      "All the keys of the dictionary (sample_dict):  dict_keys(['key_1', 'key_2', 'key_3', 'key_4', 'key_5', 'key_6', (3.14, 1.618)])\n",
      "All the keys of the dictionary (d1):  dict_keys(['a', 'b', 'cat', 'door'])\n"
     ]
    }
   ],
   "source": [
    "# What are the keys in the d1 dictionary?\n",
    "print(\"All the keys of the dictionary (sample_dict): \", sample_dict.keys()) # fetching and printing all the keys from sample_dict (dictionary)\n",
    "print(\"All the keys of the dictionary (d1): \", d1.keys()) # fetching and printing all the keys from d1 (dictionary)"
   ]
  },
  {
   "cell_type": "markdown",
   "metadata": {},
   "source": [
    "##### values() function to get the values in the dictionary"
   ]
  },
  {
   "cell_type": "code",
   "execution_count": 7,
   "metadata": {},
   "outputs": [
    {
     "name": "stdout",
     "output_type": "stream",
     "text": [
      "All the values:  dict_values(['some value', [1, 2, 3, 4], 50, 60])\n"
     ]
    }
   ],
   "source": [
    "# Fetch all the values from d1(dictionary)\n",
    "print(\"All the values: \", d1.values()) # fetching values and printing"
   ]
  },
  {
   "cell_type": "markdown",
   "metadata": {},
   "source": [
    "##### Creating a dictionary for the list"
   ]
  },
  {
   "cell_type": "code",
   "execution_count": 10,
   "metadata": {},
   "outputs": [
    {
     "name": "stdout",
     "output_type": "stream",
     "text": [
      "Created dictionary:  {'toyota': 3, 'honda': 3, 'BMW': 3, 'Audi': 3}\n"
     ]
    }
   ],
   "source": [
    "list5 = [\"toyota\", \"honda\", \"BMW\", \"Audi\"] # creating list of keys\n",
    "\n",
    "# Creating dictionary form a list - Takes two arguments\n",
    "cars = dict.fromkeys(list5, 3) # creating dictionary\n",
    "print(\"Created dictionary: \", cars) # printing dictionary"
   ]
  },
  {
   "cell_type": "markdown",
   "metadata": {},
   "source": [
    "#### Explanation - fromkeys() method\n",
    "- fromkeys() method takes a list and transform it in the dictionary\n",
    "- each element of the list become a key in dictionary\n",
    "- the first argument is a list to be converted\n",
    "- second argument is a value for each key in the list(this argument is optional default value will be none)"
   ]
  },
  {
   "cell_type": "code",
   "execution_count": 16,
   "metadata": {},
   "outputs": [
    {
     "data": {
      "text/plain": [
       "[1, 2, 3, 4]"
      ]
     },
     "execution_count": 16,
     "metadata": {},
     "output_type": "execute_result"
    }
   ],
   "source": [
    "# Getting value of specified key - It will return the value of that key\n",
    "d1.get('b') # provide value against 'b' key"
   ]
  },
  {
   "cell_type": "markdown",
   "metadata": {},
   "source": [
    "##### Addition of a new key:value pair in the dictionary"
   ]
  },
  {
   "cell_type": "code",
   "execution_count": 24,
   "metadata": {},
   "outputs": [
    {
     "name": "stdout",
     "output_type": "stream",
     "text": [
      "Before adding new key:value in the dictionary (d1) {'a': 'some value', 'b': [1, 2, 3, 4], 'cat': 50, 'door': 60}\n",
      "After adding new key:value in the dictionary (d1) {'a': 'some value', 'b': [1, 2, 3, 4], 'cat': 50, 'door': 60, 'books': 7}\n"
     ]
    }
   ],
   "source": [
    "print(\"Before adding new key:value in the dictionary (d1)\", d1)\n",
    "\n",
    "d1[\"books\"] = 7 # adding new key: value in the dictionary (d1)\n",
    "print(\"After adding new key:value in the dictionary (d1)\",d1)"
   ]
  },
  {
   "cell_type": "markdown",
   "metadata": {},
   "source": [
    "##### Delete an item using del() function in the dictionary by key"
   ]
  },
  {
   "cell_type": "code",
   "execution_count": 25,
   "metadata": {},
   "outputs": [
    {
     "data": {
      "text/plain": [
       "{'a': 'some value', 'b': [1, 2, 3, 4], 'cat': 50, 'door': 60}"
      ]
     },
     "execution_count": 25,
     "metadata": {},
     "output_type": "execute_result"
    }
   ],
   "source": [
    "del(d1['books'])\n",
    "d1"
   ]
  },
  {
   "cell_type": "code",
   "execution_count": 27,
   "metadata": {},
   "outputs": [
    {
     "ename": "NameError",
     "evalue": "name 'd1' is not defined",
     "output_type": "error",
     "traceback": [
      "\u001b[1;31m---------------------------------------------------------------------------\u001b[0m",
      "\u001b[1;31mNameError\u001b[0m                                 Traceback (most recent call last)",
      "\u001b[1;32me:\\1. University Teaching Data\\9. PU-CSAS\\2. Python Programming for Data Analysis\\5. Python Dictionaries.ipynb Cell 22\u001b[0m line \u001b[0;36m1\n\u001b[1;32m----> <a href='vscode-notebook-cell:/e%3A/1.%20University%20Teaching%20Data/9.%20PU-CSAS/2.%20Python%20Programming%20for%20Data%20Analysis/5.%20Python%20Dictionaries.ipynb#X35sZmlsZQ%3D%3D?line=0'>1</a>\u001b[0m \u001b[39mdel\u001b[39;00m d1 \u001b[39m# To delete the Entire dictionary\u001b[39;00m\n\u001b[0;32m      <a href='vscode-notebook-cell:/e%3A/1.%20University%20Teaching%20Data/9.%20PU-CSAS/2.%20Python%20Programming%20for%20Data%20Analysis/5.%20Python%20Dictionaries.ipynb#X35sZmlsZQ%3D%3D?line=1'>2</a>\u001b[0m \u001b[39mprint\u001b[39m(d1) \u001b[39m# Give error because the dictionary was deleted.\u001b[39;00m\n",
      "\u001b[1;31mNameError\u001b[0m: name 'd1' is not defined"
     ]
    }
   ],
   "source": [
    "del d1 # To delete the Entire dictionary\n",
    "print(d1) # Give error because the dictionary was deleted."
   ]
  },
  {
   "cell_type": "markdown",
   "metadata": {},
   "source": [
    "##### Verification using in or not in"
   ]
  },
  {
   "cell_type": "code",
   "execution_count": 39,
   "metadata": {},
   "outputs": [
    {
     "name": "stdout",
     "output_type": "stream",
     "text": [
      "True\n",
      "True\n",
      "False\n",
      "False\n"
     ]
    }
   ],
   "source": [
    "d1 = {\"a\": \"some value\", \"b\": [1, 2, 3, 4], 'cat':50, 'door':60} # Creatubg dictionary\n",
    "\n",
    "print('cat' in d1) # return True\n",
    "print('a' in d1) # return True\n",
    "print('some value' in d1) # return because of value instead of key\n",
    "print('b' not in d1) # return False"
   ]
  },
  {
   "cell_type": "markdown",
   "metadata": {},
   "source": [
    "#### clear() function\n",
    "- It removes all the items in the dictionary and returns an empty dictionary"
   ]
  },
  {
   "cell_type": "code",
   "execution_count": 46,
   "metadata": {},
   "outputs": [
    {
     "data": {
      "text/plain": [
       "{}"
      ]
     },
     "execution_count": 46,
     "metadata": {},
     "output_type": "execute_result"
    }
   ],
   "source": [
    "dict_sample = dict(family = 'music', type='pop', year='2022' , name='happy new year')\n",
    "dict_sample.clear()\n",
    "dict_sample"
   ]
  },
  {
   "cell_type": "markdown",
   "metadata": {},
   "source": [
    "#### copy() function\n",
    "- It returns a copy of the main dictionary"
   ]
  },
  {
   "cell_type": "code",
   "execution_count": 48,
   "metadata": {},
   "outputs": [
    {
     "name": "stdout",
     "output_type": "stream",
     "text": [
      "{'family': 'music', 'type': 'pop', 'year': '2022', 'name': 'happy new year'}\n",
      "{'family': 'music', 'type': 'pop', 'year': '2022', 'name': 'happy new year'}\n"
     ]
    }
   ],
   "source": [
    "sample_original = dict(family = 'music', type='pop', year='2022' , name='happy new year')\n",
    "sample_copy = sample_original.copy()\n",
    "print(sample_original)\n",
    "print(sample_copy)"
   ]
  },
  {
   "cell_type": "code",
   "execution_count": 50,
   "metadata": {},
   "outputs": [
    {
     "name": "stdout",
     "output_type": "stream",
     "text": [
      "{'family': 'music', 'type': 'pop', 'year': '2022', 'name': 'happy new year'}\n",
      "{'family': 'music', 'type': 'pop', 'year': '2022', 'name': 'happy new year'}\n"
     ]
    }
   ],
   "source": [
    "# Second method -- using '=' sign\n",
    "sample_copy = sample_original\n",
    "print(sample_copy)\n",
    "print(sample_original)"
   ]
  },
  {
   "cell_type": "markdown",
   "metadata": {},
   "source": [
    "#### pop() function\n",
    "- This function is used to remove a specific item from the dictionary"
   ]
  },
  {
   "cell_type": "code",
   "execution_count": 55,
   "metadata": {},
   "outputs": [
    {
     "name": "stdout",
     "output_type": "stream",
     "text": [
      "classic\n",
      "{'family': 'music', 'year': '2022', 'name': 'happy new year'}\n"
     ]
    }
   ],
   "source": [
    "sample_original = dict(family = 'music', type='classic', year='2022' , name='happy new year')\n",
    "print(sample_original.pop('type'))\n",
    "print(sample_original)"
   ]
  }
 ],
 "metadata": {
  "kernelspec": {
   "display_name": "Python 3",
   "language": "python",
   "name": "python3"
  },
  "language_info": {
   "codemirror_mode": {
    "name": "ipython",
    "version": 3
   },
   "file_extension": ".py",
   "mimetype": "text/x-python",
   "name": "python",
   "nbconvert_exporter": "python",
   "pygments_lexer": "ipython3",
   "version": "3.11.5"
  },
  "orig_nbformat": 4
 },
 "nbformat": 4,
 "nbformat_minor": 2
}
