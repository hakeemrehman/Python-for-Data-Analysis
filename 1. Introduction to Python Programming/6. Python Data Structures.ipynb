{
 "cells": [
  {
   "cell_type": "markdown",
   "metadata": {},
   "source": [
    "#### Nested List"
   ]
  },
  {
   "cell_type": "code",
   "execution_count": 5,
   "metadata": {},
   "outputs": [
    {
     "name": "stdout",
     "output_type": "stream",
     "text": [
      "4\n"
     ]
    },
    {
     "data": {
      "text/plain": [
       "[[1, 2, 3], [4, 5, 6], [7, 8, 9], [10, 11, 12]]"
      ]
     },
     "execution_count": 5,
     "metadata": {},
     "output_type": "execute_result"
    }
   ],
   "source": [
    "nested_list = [[1, 2, 3], [4, 5, 6], [7, 8, 9]]\n",
    "\n",
    "# Access the element at row 2, column 1 (indexing starts at 0)\n",
    "element = nested_list[1][0]  # Output: 4\n",
    "\n",
    "# Appending a Row to a Nested List:\n",
    "nested_list = [[1, 2, 3], [4, 5, 6], [7, 8, 9]]\n",
    "new_row = [10, 11, 12]\n",
    "nested_list.append(new_row)\n",
    "nested_list"
   ]
  },
  {
   "cell_type": "markdown",
   "metadata": {},
   "source": [
    "#### String\n",
    "    - Strings are sequences of characters and are immutable in Python."
   ]
  },
  {
   "cell_type": "code",
   "execution_count": 1,
   "metadata": {},
   "outputs": [
    {
     "name": "stdout",
     "output_type": "stream",
     "text": [
      "H\n",
      "Hello World! \n",
      "How many people are living on the earth?\n",
      "Hello World! \tHow many people are living on the earth?\n"
     ]
    },
    {
     "ename": "TypeError",
     "evalue": "'str' object does not support item assignment",
     "output_type": "error",
     "traceback": [
      "\u001b[1;31m---------------------------------------------------------------------------\u001b[0m",
      "\u001b[1;31mTypeError\u001b[0m                                 Traceback (most recent call last)",
      "\u001b[1;32me:\\1. University Teaching Data\\9. PU-CSAS\\2. Python Programming for Data Analysis\\1. Python Data Structures.ipynb Cell 4\u001b[0m line \u001b[0;36m1\n\u001b[0;32m     <a href='vscode-notebook-cell:/e%3A/1.%20University%20Teaching%20Data/9.%20PU-CSAS/2.%20Python%20Programming%20for%20Data%20Analysis/1.%20Python%20Data%20Structures.ipynb#W3sZmlsZQ%3D%3D?line=14'>15</a>\u001b[0m \u001b[39m# Tab escape (\\t) sequence\u001b[39;00m\n\u001b[0;32m     <a href='vscode-notebook-cell:/e%3A/1.%20University%20Teaching%20Data/9.%20PU-CSAS/2.%20Python%20Programming%20for%20Data%20Analysis/1.%20Python%20Data%20Structures.ipynb#W3sZmlsZQ%3D%3D?line=15'>16</a>\u001b[0m \u001b[39mprint\u001b[39m(\u001b[39m'\u001b[39m\u001b[39mHello World! \u001b[39m\u001b[39m\\t\u001b[39;00m\u001b[39mHow many people are living on the earth?\u001b[39m\u001b[39m'\u001b[39m) \n\u001b[1;32m---> <a href='vscode-notebook-cell:/e%3A/1.%20University%20Teaching%20Data/9.%20PU-CSAS/2.%20Python%20Programming%20for%20Data%20Analysis/1.%20Python%20Data%20Structures.ipynb#W3sZmlsZQ%3D%3D?line=17'>18</a>\u001b[0m my_string[\u001b[39m1\u001b[39;49m] \u001b[39m=\u001b[39m \u001b[39m'\u001b[39m\u001b[39mr\u001b[39m\u001b[39m'\u001b[39m \u001b[39m# Gives error as 'str' object does not support item assignment\u001b[39;00m\n",
      "\u001b[1;31mTypeError\u001b[0m: 'str' object does not support item assignment"
     ]
    }
   ],
   "source": [
    "my_string = \"Hello, World!\"\n",
    "\n",
    "# Access characters by index\n",
    "print(my_string[0])  \n",
    "\n",
    "# Slicing a string\n",
    "sub_string = my_string[7:12]  \n",
    "\n",
    "# Concatenating strings\n",
    "concatenated = my_string + \" How are you?\"  \n",
    "\n",
    "# New line escape (\\n) sequence\n",
    "print('Hello World! \\nHow many people are living on the earth?') \n",
    "\n",
    "# Tab escape (\\t) sequence\n",
    "print('Hello World! \\tHow many people are living on the earth?') \n",
    "\n",
    "my_string[1] = 'r' # Gives error as 'str' object does not support item assignment"
   ]
  },
  {
   "cell_type": "markdown",
   "metadata": {},
   "source": [
    "#### Python String Methods"
   ]
  },
  {
   "cell_type": "code",
   "execution_count": null,
   "metadata": {},
   "outputs": [],
   "source": [
    "my_string = \"Hello, World!\"\n",
    "# Converts a string to uppercase\n",
    "my_string.upper() # Output: \"HELLO, WORLD!\"\n",
    "\n",
    "# Converts a string to lowercase\n",
    "my_string.lower() # Output: \"hello, world!\"\n",
    "\n",
    "# Capitalizes the first character of the string\n",
    "my_string.capitalize() # Output: \"Hello, world!\"\n",
    "\n",
    "# Capitalizes the first character of each word in the string\n",
    "my_string.title() # Output: \"Hello, World!\"\n",
    "\n",
    "# Checks if the string starts with a specified prefix.\n",
    "my_string.startswith(\"Hello\") # Output: True\n",
    "\n",
    "# Checks if the string ends with a specified suffix.\n",
    "my_string.endswith(\"World!\") # Output: True\n",
    "\n",
    "# Replaces all occurrences of the old substring with the new substring.\n",
    "my_string.replace(\"Hello\", \"Hi\") # Output: \"Hi, World!\"\n",
    "\n",
    "# Returns the index of the first occurrence of a substring in the string. Returns -1 if not found.\n",
    "my_string.find(\"World\") # Output: 7\n",
    "\n",
    "text = \"   This is a string   \"\n",
    "# Removes leading and trailing whitespace\n",
    "text.strip() # Output: \"This is a string\"\n",
    "\n",
    "# Splits the string into a list of substrings based on the specified separator.\n",
    "text = \"apple,banana,cherry\"\n",
    "fruits = text.split(\",\") # Output: ['apple', 'banana', 'cherry']"
   ]
  },
  {
   "cell_type": "markdown",
   "metadata": {},
   "source": [
    "#### Data Structures in Python\n",
    "\n",
    "1. List \n",
    "2. Tuple\n",
    "3. Set\n",
    "4. Dictionaries"
   ]
  },
  {
   "cell_type": "markdown",
   "metadata": {},
   "source": [
    "#### Tuple\n",
    "    - similar to lists but are immutable"
   ]
  },
  {
   "cell_type": "code",
   "execution_count": 6,
   "metadata": {},
   "outputs": [
    {
     "name": "stdout",
     "output_type": "stream",
     "text": [
      "(1, 2, 3, [44, 34], 'programming')\n",
      "2\n",
      "(2, 3, [44, 34])\n"
     ]
    },
    {
     "ename": "TypeError",
     "evalue": "'tuple' object does not support item assignment",
     "output_type": "error",
     "traceback": [
      "\u001b[1;31m---------------------------------------------------------------------------\u001b[0m",
      "\u001b[1;31mTypeError\u001b[0m                                 Traceback (most recent call last)",
      "\u001b[1;32me:\\1. University Teaching Data\\9. PU-CSAS\\2. Python Programming for Data Analysis\\1. Python Data Structures.ipynb Cell 9\u001b[0m line \u001b[0;36m1\n\u001b[0;32m      <a href='vscode-notebook-cell:/e%3A/1.%20University%20Teaching%20Data/9.%20PU-CSAS/2.%20Python%20Programming%20for%20Data%20Analysis/1.%20Python%20Data%20Structures.ipynb#X11sZmlsZQ%3D%3D?line=7'>8</a>\u001b[0m \u001b[39m# Slicing\u001b[39;00m\n\u001b[0;32m      <a href='vscode-notebook-cell:/e%3A/1.%20University%20Teaching%20Data/9.%20PU-CSAS/2.%20Python%20Programming%20for%20Data%20Analysis/1.%20Python%20Data%20Structures.ipynb#X11sZmlsZQ%3D%3D?line=8'>9</a>\u001b[0m \u001b[39mprint\u001b[39m(my_tuple[\u001b[39m1\u001b[39m:\u001b[39m4\u001b[39m]) \n\u001b[1;32m---> <a href='vscode-notebook-cell:/e%3A/1.%20University%20Teaching%20Data/9.%20PU-CSAS/2.%20Python%20Programming%20for%20Data%20Analysis/1.%20Python%20Data%20Structures.ipynb#X11sZmlsZQ%3D%3D?line=10'>11</a>\u001b[0m my_tuple[\u001b[39m0\u001b[39;49m] \u001b[39m=\u001b[39m \u001b[39m4\u001b[39m \u001b[39m# Gives error because does not support item assignment\u001b[39;00m\n",
      "\u001b[1;31mTypeError\u001b[0m: 'tuple' object does not support item assignment"
     ]
    }
   ],
   "source": [
    "my_tuple = (1, 2, 3, [44, 34], \"programming\")\n",
    "print(my_tuple)\n",
    "\n",
    "# Access 2nd elements by index\n",
    "value = my_tuple[1] \n",
    "print(value) \n",
    "\n",
    "# Slicing\n",
    "print(my_tuple[1:4]) \n",
    "\n",
    "my_tuple[0] = 4 # Gives error because does not support item assignment"
   ]
  },
  {
   "cell_type": "markdown",
   "metadata": {},
   "source": [
    "#### Python tuple Methods"
   ]
  },
  {
   "cell_type": "code",
   "execution_count": 7,
   "metadata": {},
   "outputs": [
    {
     "data": {
      "text/plain": [
       "2"
      ]
     },
     "execution_count": 7,
     "metadata": {},
     "output_type": "execute_result"
    }
   ],
   "source": [
    "my_tuple = (1, 2, 33, 33, 33, [44, 34], \"programming\")\n",
    "\n",
    "# Count the number of occurrences of a value in a tuple\n",
    "my_tuple.count(33) # Output: 3\n",
    "\n",
    "# Find the index of the first occurrence of a value\n",
    "my_tuple.index(33) # Output: 2"
   ]
  },
  {
   "cell_type": "markdown",
   "metadata": {},
   "source": [
    "##### Converting a List to Tuple "
   ]
  },
  {
   "cell_type": "code",
   "execution_count": 9,
   "metadata": {},
   "outputs": [
    {
     "name": "stdout",
     "output_type": "stream",
     "text": [
      "[1, 2, 3]\n",
      "(1, 2, 3)\n"
     ]
    }
   ],
   "source": [
    "my_list = [1, 2, 3]\n",
    "print(my_list)\n",
    "\n",
    "my_tuple = tuple(my_list) # convert the List into tuple\n",
    "print(my_tuple)"
   ]
  },
  {
   "cell_type": "markdown",
   "metadata": {},
   "source": [
    "#### Sets \n",
    "    - are collections of unique and unordered elements."
   ]
  },
  {
   "cell_type": "code",
   "execution_count": 20,
   "metadata": {},
   "outputs": [
    {
     "data": {
      "text/plain": [
       "{1, 2, 3, 4}"
      ]
     },
     "execution_count": 20,
     "metadata": {},
     "output_type": "execute_result"
    }
   ],
   "source": [
    "# Creating Sets\n",
    "my_set1 = {1, 2, 3, 3, 4}\n",
    "my_set2 = {3,3,\"Programming\"}\n",
    "my_set1"
   ]
  },
  {
   "cell_type": "markdown",
   "metadata": {},
   "source": [
    "#### Python Set Methods"
   ]
  },
  {
   "cell_type": "code",
   "execution_count": 21,
   "metadata": {},
   "outputs": [
    {
     "name": "stdout",
     "output_type": "stream",
     "text": [
      "{1, 2, 3, 4, 5}\n",
      "{1, 3, 4, 5}\n"
     ]
    }
   ],
   "source": [
    "# Add elements to a set \n",
    "my_set1.add(5)\n",
    "print(my_set1) \n",
    "\n",
    "# Remove elements from a set\n",
    "my_set1.remove(2)  \n",
    "print(my_set1)"
   ]
  },
  {
   "cell_type": "markdown",
   "metadata": {},
   "source": [
    "##### Set Operations"
   ]
  },
  {
   "cell_type": "code",
   "execution_count": 30,
   "metadata": {},
   "outputs": [
    {
     "name": "stdout",
     "output_type": "stream",
     "text": [
      "{1, 2, 3, 4}\n",
      "{2, 3}\n",
      "{1}\n"
     ]
    }
   ],
   "source": [
    "set1 = {1, 2, 3}\n",
    "set2 = {2, 3, 4}\n",
    "\n",
    "# Union of set1 and set2\n",
    "union_result = set1.union(set2)  \n",
    "print(union_result)\n",
    "\n",
    "intersection_result = set1.intersection(set2)  # Intersection of set1 and set2\n",
    "print(intersection_result)\n",
    "\n",
    "difference_result = set1.difference(set2)  # Set difference of set1 - set2\n",
    "print(difference_result)\n",
    "\n",
    "set3 = {1, 2, 3, 4}\n",
    "set4 = {2, 3}\n",
    "\n",
    "is_subset = set4.issubset(set3)  # True\n",
    "is_superset = set3.issuperset(set4)  # True\n",
    "\n",
    "# Checking for Disjoint Sets: to check if two sets have no elements in common\n",
    "set5 = {1, 2, 3}\n",
    "set6 = {4, 5, 6}\n",
    "is_disjoint = set5.isdisjoint(set6)  # True"
   ]
  },
  {
   "cell_type": "markdown",
   "metadata": {},
   "source": [
    "##### Converting a List to set"
   ]
  },
  {
   "cell_type": "code",
   "execution_count": null,
   "metadata": {},
   "outputs": [],
   "source": [
    "my_list = [1, 2, 2, 3, 3]\n",
    "my_set = set(my_list)  # Converts to {1, 2, 3}\n",
    "my_set"
   ]
  },
  {
   "cell_type": "markdown",
   "metadata": {},
   "source": [
    "#### Dictionaries\n",
    " - store key-value pairs, and keys must be unique.\n",
    " - Value can be changed in dictionaries once defined (mutable)"
   ]
  },
  {
   "cell_type": "code",
   "execution_count": 23,
   "metadata": {},
   "outputs": [
    {
     "data": {
      "text/plain": [
       "{'family': 'cric', 'type': 'pop'}"
      ]
     },
     "execution_count": 23,
     "metadata": {},
     "output_type": "execute_result"
    }
   ],
   "source": [
    "dict1 = dict(family = 'cric', type = 'pop')\n",
    "dict1"
   ]
  },
  {
   "cell_type": "code",
   "execution_count": 26,
   "metadata": {},
   "outputs": [
    {
     "name": "stdout",
     "output_type": "stream",
     "text": [
      "John\n",
      "{'street': '123 Main St', 'city': 'New York', 'zip': '10001'}\n"
     ]
    }
   ],
   "source": [
    "# Creating a dictionary\n",
    "\n",
    "# Method - 1\n",
    "sample_dict = {'key_1': 3.14, 'key_2': 1.618, 'key_3': True, 'key_4': [3.14, 1.618],\n",
    "                'key_5': (3.14, 1.618), 'key_6': 2022, (3.14, 1.618): 'pi and golden ratio', 2:7}\n",
    "\n",
    "# Method - 2:  using dict() function\n",
    "dict_sample = dict(family = 'music', type='pop', year='2022' , name='happy new year')\n",
    "\n",
    "# Accessing Values\n",
    "sample_dict['key_1']\n",
    "dict_sample['family']\n",
    "\n",
    "# Modifying Values\n",
    "sample_dict['key_7'] = 8.356\n",
    "sample_dict['key_10'] = 100\n",
    "\n",
    "# Adding New element (Key-Value Pairs)\n",
    "dict_sample['city'] = 'New York'\n",
    "\n",
    "# Nested Dictionaries - Dictionaries can contain other dictionaries as values\n",
    "student = {'name': 'John', 'address': {'street': '123 Main St', 'city': 'New York', 'zip': '10001'}}\n",
    "print(student['name'])\n",
    "print(student['address'])"
   ]
  },
  {
   "cell_type": "markdown",
   "metadata": {},
   "source": [
    "#### Python Dictionary Methods"
   ]
  },
  {
   "cell_type": "code",
   "execution_count": null,
   "metadata": {},
   "outputs": [],
   "source": [
    "# Removes all items from the dictionary\n",
    "my_dict = {'a': 1, 'b': 2}\n",
    "my_dict.clear()  # Clears the dictionary\n",
    "\n",
    "# Returns a copy of the dictionary\n",
    "original_dict = {'a': 1, 'b': 2}\n",
    "new_dict = original_dict.copy()"
   ]
  }
 ],
 "metadata": {
  "kernelspec": {
   "display_name": "Python 3",
   "language": "python",
   "name": "python3"
  },
  "language_info": {
   "codemirror_mode": {
    "name": "ipython",
    "version": 3
   },
   "file_extension": ".py",
   "mimetype": "text/x-python",
   "name": "python",
   "nbconvert_exporter": "python",
   "pygments_lexer": "ipython3",
   "version": "3.12.0"
  }
 },
 "nbformat": 4,
 "nbformat_minor": 2
}
