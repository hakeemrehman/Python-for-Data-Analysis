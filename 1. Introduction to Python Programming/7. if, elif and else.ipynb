{
 "cells": [
  {
   "cell_type": "markdown",
   "metadata": {},
   "source": [
    "#### Control Flow\n",
    "    - if, elif, and else\n",
    "    - for loop\n",
    "    - while loop"
   ]
  },
  {
   "cell_type": "markdown",
   "metadata": {},
   "source": [
    "#### if, elif, and else"
   ]
  },
  {
   "cell_type": "code",
   "execution_count": 10,
   "metadata": {},
   "outputs": [],
   "source": [
    "x = 5\n",
    "if(x>5):\n",
    "    print(\"This is a Positive Number\")"
   ]
  },
  {
   "cell_type": "code",
   "execution_count": null,
   "metadata": {},
   "outputs": [],
   "source": [
    "x = -5\n",
    "if x < 0:\n",
    "    print(\"It's negative\")"
   ]
  },
  {
   "cell_type": "code",
   "execution_count": 13,
   "metadata": {},
   "outputs": [
    {
     "name": "stdout",
     "output_type": "stream",
     "text": [
      "It's negative\n"
     ]
    }
   ],
   "source": [
    "x = int(input(\"Enter a Number: \"))\n",
    "if x < 0:\n",
    "    print(\"It's negative\")\n",
    "elif x == 0:\n",
    "    print(\"Equal to zero\")\n",
    "elif 0 < x < 5:\n",
    "    print(\"Positive but smaller than 5\")\n",
    "else:\n",
    "    print(\"Positive and larger than or equal to 5\")"
   ]
  },
  {
   "cell_type": "code",
   "execution_count": 15,
   "metadata": {},
   "outputs": [
    {
     "name": "stdout",
     "output_type": "stream",
     "text": [
      "Yes, Made it\n"
     ]
    }
   ],
   "source": [
    "a = 5 \n",
    "b = 7\n",
    "c = 8 \n",
    "d = 10\n",
    "if a < b or c > d:\n",
    "    print(\"Yes, Made it\")\n",
    "else:\n",
    "    print(\"condition not satisfied\")"
   ]
  },
  {
   "cell_type": "code",
   "execution_count": 16,
   "metadata": {},
   "outputs": [
    {
     "name": "stdout",
     "output_type": "stream",
     "text": [
      "condition not satisfied\n"
     ]
    }
   ],
   "source": [
    "a = 5 \n",
    "b = 7\n",
    "c = 8 \n",
    "d = 10\n",
    "if a < b and c > d:\n",
    "    print(\"Yes, Made it\")\n",
    "else:\n",
    "    print(\"condition not satisfied\")"
   ]
  },
  {
   "cell_type": "markdown",
   "metadata": {},
   "source": [
    "##### Write a Python program to check if a number is a multiple of 5 and 7. If the number is a user-input."
   ]
  },
  {
   "cell_type": "code",
   "execution_count": 19,
   "metadata": {},
   "outputs": [
    {
     "name": "stdout",
     "output_type": "stream",
     "text": [
      "Multiple only by 5\n"
     ]
    }
   ],
   "source": [
    "num = int(input(\"Enter a number: \"))\n",
    "if num % 5 == 0 and num % 7 == 0:\n",
    "    print(\"Multiple of 5 and 7\")\n",
    "elif num % 5 == 0:\n",
    "    print(\"Multiple only by 5\")\n",
    "elif num % 7 == 0:\n",
    "    print(\"Multiple only by 7\")\n",
    "else:\n",
    "    print(\"Not a multiple of 5 and 7\")"
   ]
  },
  {
   "cell_type": "markdown",
   "metadata": {},
   "source": [
    "##### Write a Python program to determine if a  given (User-input) character is a vowel or a consonant."
   ]
  },
  {
   "cell_type": "code",
   "execution_count": 2,
   "metadata": {},
   "outputs": [
    {
     "name": "stdout",
     "output_type": "stream",
     "text": [
      "A is a vowel\n"
     ]
    }
   ],
   "source": [
    "char = input(\"Enter a character: \")\n",
    "if char in 'aeiouAEIOU':\n",
    "    print(char, \"is a vowel\")\n",
    "else:\n",
    "    print(char, \"is a consonant\")"
   ]
  },
  {
   "cell_type": "markdown",
   "metadata": {},
   "source": [
    "##### Write a Python program to calculate the factorial of a number. If the number is a user-input."
   ]
  },
  {
   "cell_type": "code",
   "execution_count": null,
   "metadata": {},
   "outputs": [],
   "source": [
    "num = int(input(\"Enter a number: \"))\n",
    "fact = 1\n",
    "if num < 0:\n",
    "    print(\"Factorial is not defined for negative numbers.\")\n",
    "elif num == 0:\n",
    "    print(\"Factorial of 0 is 1\")\n",
    "else:\n",
    "    for i in range(1, num + 1):\n",
    "        fact *= i\n",
    "    print(\"Factorial of\", num, \"is\", fact)"
   ]
  },
  {
   "cell_type": "markdown",
   "metadata": {},
   "source": [
    "#### Exercise - 1\n",
    "    - Write a Python program to check if a user-input number is even or odd."
   ]
  },
  {
   "cell_type": "code",
   "execution_count": null,
   "metadata": {},
   "outputs": [],
   "source": [
    "# 1. Write a Python program to check if a user-input number is even or odd.\n",
    "num = int(input(\"Enter a number: \"))\n",
    "if num % 2 == 0:\n",
    "    print(\"The number is even.\")\n",
    "else:\n",
    "    print(\"The number is odd.\")"
   ]
  },
  {
   "cell_type": "markdown",
   "metadata": {},
   "source": [
    "#### Exercise - 2: **Grade Calculator** \n",
    "   - Write a program that takes a numerical score as input and prints out the corresponding letter grade according to the following scale:\n",
    "                \n",
    "                90-100: A \n",
    "\n",
    "                80-89:  B\n",
    "                \n",
    "                70-79:  C\n",
    "                \n",
    "                60-69:  D\n",
    "                \n",
    "                0-59:   F"
   ]
  },
  {
   "cell_type": "code",
   "execution_count": null,
   "metadata": {},
   "outputs": [],
   "source": [
    "# 2. Grade Calculator\n",
    "score = int(input(\"Enter your score: \"))\n",
    "\n",
    "if score >= 90:\n",
    "    grade = 'A'\n",
    "elif score >= 80:\n",
    "    grade = 'B'\n",
    "elif score >= 70:\n",
    "    grade = 'C'\n",
    "elif score >= 60:\n",
    "    grade = 'D'\n",
    "else:\n",
    "    grade = 'F'\n",
    "\n",
    "print(\"Your grade is:\", grade)"
   ]
  },
  {
   "cell_type": "markdown",
   "metadata": {},
   "source": [
    "#### for loop\n",
    "    - for loops are for iterating over a collection (like a list or tuple) or an iterater."
   ]
  },
  {
   "cell_type": "code",
   "execution_count": 2,
   "metadata": {},
   "outputs": [
    {
     "name": "stdout",
     "output_type": "stream",
     "text": [
      "0\n",
      "1\n",
      "2\n",
      "3\n"
     ]
    }
   ],
   "source": [
    "for i in range(4):\n",
    "    print(i)"
   ]
  },
  {
   "cell_type": "code",
   "execution_count": 12,
   "metadata": {},
   "outputs": [
    {
     "name": "stdout",
     "output_type": "stream",
     "text": [
      "25\n",
      "36\n",
      "49\n",
      "100\n",
      "225\n"
     ]
    }
   ],
   "source": [
    "L1 = [5, 6, 7, 10, 15]\n",
    "for i in L1:\n",
    "    x = i**2\n",
    "    print(x)"
   ]
  },
  {
   "cell_type": "code",
   "execution_count": 15,
   "metadata": {},
   "outputs": [
    {
     "name": "stdout",
     "output_type": "stream",
     "text": [
      "Alice: 85\n",
      "Bob: 92\n",
      "Charlie: 78\n"
     ]
    }
   ],
   "source": [
    "student_grades = {'Alice': 85, 'Bob': 92, 'Charlie': 78}\n",
    "\n",
    "for key, value in student_grades.items():\n",
    "    print(f\"{key}: {value}\")"
   ]
  },
  {
   "cell_type": "code",
   "execution_count": 17,
   "metadata": {},
   "outputs": [
    {
     "name": "stdout",
     "output_type": "stream",
     "text": [
      "Bob scored 92 and got an A.\n"
     ]
    }
   ],
   "source": [
    "student_grades = {'Alice': 85, 'Bob': 92, 'Charlie': 78}\n",
    "\n",
    "for key, value in student_grades.items():\n",
    "    if value >= 90:\n",
    "        print(f\"{key} scored {value} and got an A.\")"
   ]
  },
  {
   "cell_type": "code",
   "execution_count": 20,
   "metadata": {},
   "outputs": [
    {
     "name": "stdout",
     "output_type": "stream",
     "text": [
      "{'Alice': 85, 'Bob': 92}\n"
     ]
    }
   ],
   "source": [
    "student_grades = {'Alice': 85, 'Bob': 92, 'Charlie': 78}\n",
    "\n",
    "passed_students = {k:v for k, v in student_grades.items() if v >= 80}\n",
    "print(passed_students)"
   ]
  },
  {
   "cell_type": "code",
   "execution_count": 1,
   "metadata": {},
   "outputs": [
    {
     "name": "stdout",
     "output_type": "stream",
     "text": [
      "1\n",
      "3\n"
     ]
    },
    {
     "ename": "TypeError",
     "evalue": "unsupported operand type(s) for +=: 'int' and 'NoneType'",
     "output_type": "error",
     "traceback": [
      "\u001b[1;31m---------------------------------------------------------------------------\u001b[0m",
      "\u001b[1;31mTypeError\u001b[0m                                 Traceback (most recent call last)",
      "\u001b[1;32me:\\1. University Teaching Data\\9. PU-CSAS\\2. Python Programming for Data Analysis\\2. Control Flow in Python.ipynb Cell 19\u001b[0m line \u001b[0;36m5\n\u001b[0;32m      <a href='vscode-notebook-cell:/e%3A/1.%20University%20Teaching%20Data/9.%20PU-CSAS/2.%20Python%20Programming%20for%20Data%20Analysis/2.%20Control%20Flow%20in%20Python.ipynb#X24sZmlsZQ%3D%3D?line=2'>3</a>\u001b[0m total \u001b[39m=\u001b[39m \u001b[39m0\u001b[39m\n\u001b[0;32m      <a href='vscode-notebook-cell:/e%3A/1.%20University%20Teaching%20Data/9.%20PU-CSAS/2.%20Python%20Programming%20for%20Data%20Analysis/2.%20Control%20Flow%20in%20Python.ipynb#X24sZmlsZQ%3D%3D?line=3'>4</a>\u001b[0m \u001b[39mfor\u001b[39;00m value \u001b[39min\u001b[39;00m sequence:\n\u001b[1;32m----> <a href='vscode-notebook-cell:/e%3A/1.%20University%20Teaching%20Data/9.%20PU-CSAS/2.%20Python%20Programming%20for%20Data%20Analysis/2.%20Control%20Flow%20in%20Python.ipynb#X24sZmlsZQ%3D%3D?line=4'>5</a>\u001b[0m     total \u001b[39m+\u001b[39;49m\u001b[39m=\u001b[39;49m value \u001b[39m# total = total + value\u001b[39;00m\n\u001b[0;32m      <a href='vscode-notebook-cell:/e%3A/1.%20University%20Teaching%20Data/9.%20PU-CSAS/2.%20Python%20Programming%20for%20Data%20Analysis/2.%20Control%20Flow%20in%20Python.ipynb#X24sZmlsZQ%3D%3D?line=5'>6</a>\u001b[0m     \u001b[39mprint\u001b[39m(total)\n",
      "\u001b[1;31mTypeError\u001b[0m: unsupported operand type(s) for +=: 'int' and 'NoneType'"
     ]
    }
   ],
   "source": [
    "# Write a Program to sum all the elements in the List.\n",
    "sequence = [1, 2, None, 4, None, 5]\n",
    "total = 0\n",
    "for value in sequence:\n",
    "    total += value # total = total + value\n",
    "    print(total)"
   ]
  },
  {
   "cell_type": "markdown",
   "metadata": {},
   "source": [
    "##### Continue & Break Statements"
   ]
  },
  {
   "cell_type": "code",
   "execution_count": null,
   "metadata": {},
   "outputs": [],
   "source": [
    "# Use of 'continue' statement\n",
    "sequence = [1, 2, None, 4, None, 5]\n",
    "total = 0\n",
    "for value in sequence:\n",
    "    if value is None:\n",
    "        continue\n",
    "    total += value\n",
    "    print(total)"
   ]
  },
  {
   "cell_type": "code",
   "execution_count": null,
   "metadata": {},
   "outputs": [],
   "source": [
    "# Use of 'break' statement\n",
    "\n",
    "# Write a program to sum the values in the given List until 5 found in that list.\n",
    "sequence = [1, 2, 0, 4, 6, 5, 2, 1]\n",
    "total_until_5 = 0\n",
    "for value in sequence:\n",
    "    if value == 5:\n",
    "        break\n",
    "    total_until_5 += value\n",
    "    print(total_until_5)"
   ]
  },
  {
   "cell_type": "code",
   "execution_count": 24,
   "metadata": {},
   "outputs": [
    {
     "name": "stdout",
     "output_type": "stream",
     "text": [
      "(0, 0)\n",
      "(0, 1)\n",
      "(0, 2)\n",
      "(0, 3)\n",
      "(1, 0)\n",
      "(1, 1)\n",
      "(1, 2)\n",
      "(1, 3)\n",
      "(2, 0)\n",
      "(2, 1)\n",
      "(2, 2)\n",
      "(2, 3)\n",
      "(3, 0)\n",
      "(3, 1)\n",
      "(3, 2)\n",
      "(3, 3)\n"
     ]
    }
   ],
   "source": [
    "for i in range(4):\n",
    "    for j in range(4):\n",
    "        print((i, j))"
   ]
  },
  {
   "cell_type": "code",
   "execution_count": 23,
   "metadata": {},
   "outputs": [
    {
     "name": "stdout",
     "output_type": "stream",
     "text": [
      "(0, 0)\n",
      "(1, 0)\n",
      "(1, 1)\n",
      "(2, 0)\n",
      "(2, 1)\n",
      "(2, 2)\n",
      "(3, 0)\n",
      "(3, 1)\n",
      "(3, 2)\n",
      "(3, 3)\n"
     ]
    }
   ],
   "source": [
    "for i in range(4):\n",
    "    for j in range(4):\n",
    "        if j > i:\n",
    "            break\n",
    "        print((i, j))"
   ]
  },
  {
   "cell_type": "markdown",
   "metadata": {},
   "source": [
    "#### range\n",
    "    - The range function generates a sequence of evenly spaced integers"
   ]
  },
  {
   "cell_type": "code",
   "execution_count": null,
   "metadata": {},
   "outputs": [],
   "source": [
    "list(range(10))"
   ]
  },
  {
   "cell_type": "code",
   "execution_count": null,
   "metadata": {},
   "outputs": [],
   "source": [
    "list(range(0, 20, 2))"
   ]
  },
  {
   "cell_type": "code",
   "execution_count": null,
   "metadata": {},
   "outputs": [],
   "source": [
    "list(range(5, 0, -1))"
   ]
  },
  {
   "cell_type": "code",
   "execution_count": null,
   "metadata": {},
   "outputs": [],
   "source": [
    "seq = [1, 2, 3, 4]\n",
    "for i in range(len(seq)):\n",
    "    print(f\"element {i}: {seq[i]}\") # f -- formatted string\n",
    "\n",
    "# \"f\" before a string inside print, it allows you to create a formatted string by including variables or expressions inside curly braces {}"
   ]
  },
  {
   "cell_type": "code",
   "execution_count": null,
   "metadata": {},
   "outputs": [],
   "source": [
    "# sums all numbers from 0 to 99,999 that are multiples of 3 or 5\n",
    "total = 0\n",
    "for i in range(1000000):\n",
    "    if i % 3 == 0 or i % 5 == 0:\n",
    "        total += i\n",
    "print(total)\n",
    "    "
   ]
  },
  {
   "cell_type": "markdown",
   "metadata": {},
   "source": [
    "#### while loop\n",
    "    - A while loop specifies a condition and a block of code that is to be executed until the condition evaluates to False or the loop is explicitly ended with break."
   ]
  },
  {
   "cell_type": "code",
   "execution_count": null,
   "metadata": {},
   "outputs": [],
   "source": [
    "x = 256\n",
    "total = 0\n",
    "while x > 0:\n",
    "    if total > 500:\n",
    "        break\n",
    "    total += x # total = x + total\n",
    "    x = x // 2\n",
    "    print(x)"
   ]
  },
  {
   "cell_type": "markdown",
   "metadata": {},
   "source": [
    "#### Exercises\n",
    "1. Write a program to calculate the sum of all numbers from 1 to a given number n using a \"for\" loop.\n",
    "2. Write a program to calculate the factorial of a given number 'n' using a \"while\" loop.\n",
    "3. Write a program to print all even numbers from 1 to 20 using a \"for\" loop.\n",
    "4. Write a program to reverse a given string using a \"while\" loop.\n",
    "5. Write a program to find all prime numbers between 10 and 50 using a \"for\" loop.\n",
    "6. Using a for loop, print a right-angled triangle of asterisks (*) with a height of 5.\n",
    "7. Using a while loop, find the factorial of a number entered by the user.\n",
    "8. Write a Python program to calculate the Table of a user-input positive integer"
   ]
  },
  {
   "cell_type": "code",
   "execution_count": null,
   "metadata": {},
   "outputs": [],
   "source": [
    "# 1. Write a program to calculate the sum of all numbers from 1 to a given number n using a \"for\" loop.\n",
    "n = 10\n",
    "sum = 0\n",
    "\n",
    "for i in range(1, n + 1):\n",
    "    sum += i\n",
    "\n",
    "print(\"The sum of numbers from 1 to\", n, \"is:\", sum)"
   ]
  },
  {
   "cell_type": "code",
   "execution_count": null,
   "metadata": {},
   "outputs": [],
   "source": [
    "# 2. Write a program to calculate the factorial of a given number 'n' using a \"while\" loop.\n",
    "n = 5\n",
    "fact = 1\n",
    "i = 1\n",
    "\n",
    "while i <= n:\n",
    "    fact *= i\n",
    "    i += 1\n",
    "\n",
    "print(\"The factorial of\", n, \"is:\", fact)"
   ]
  },
  {
   "cell_type": "code",
   "execution_count": null,
   "metadata": {},
   "outputs": [],
   "source": [
    "# 3. Write a program to print all even numbers from 1 to 20 using a \"for\" loop.\n",
    "for num in range(2, 21, 2):\n",
    "    print(num)"
   ]
  },
  {
   "cell_type": "code",
   "execution_count": null,
   "metadata": {},
   "outputs": [],
   "source": [
    "# 4. Write a program to reverse a given string using a \"while\" loop.\n",
    "text = \"Python\"\n",
    "reverse_text = \"\"\n",
    "i = len(text) - 1\n",
    "\n",
    "while i >= 0:\n",
    "    reverse_text += text[i]\n",
    "    i -= 1\n",
    "\n",
    "print(\"Original:\", text)\n",
    "print(\"Reversed:\", reverse_text)"
   ]
  },
  {
   "cell_type": "code",
   "execution_count": null,
   "metadata": {},
   "outputs": [],
   "source": [
    "# 5. Write a program to find all prime numbers between 10 and 50 using a \"for\" loop.\n",
    "for num in range(10, 51):\n",
    "    if num > 9:\n",
    "        for i in range(2, num):\n",
    "            if (num % i) == 0:\n",
    "                break\n",
    "        else:\n",
    "            print(num)\n",
    "\n",
    "# Prime Number: A whole number greater than 1 that cannot be exactly divided by any whole number other than itself and 1"
   ]
  },
  {
   "cell_type": "code",
   "execution_count": null,
   "metadata": {},
   "outputs": [],
   "source": [
    "# 6. Using a for loop, print a right-angled triangle of asterisks (*) with a height of 5.\n",
    "for i in range(1, 6):\n",
    "    print('*' * i)"
   ]
  },
  {
   "cell_type": "code",
   "execution_count": null,
   "metadata": {},
   "outputs": [],
   "source": [
    "# 7. Using a while loop, find the factorial of a number entered by the user.\n",
    "n = int(input(\"Enter a number: \"))\n",
    "factorial = 1\n",
    "i = 1\n",
    "while i <= n:\n",
    "    factorial *= i\n",
    "    i += 1\n",
    "print(\"Factorial of\", n, \"is\", factorial)"
   ]
  },
  {
   "cell_type": "code",
   "execution_count": null,
   "metadata": {},
   "outputs": [],
   "source": [
    "# 8. Write a Python program to calculate the Table of a user-input positive integer\n",
    "# Get user input for the positive integer\n",
    "num = int(input(\"Enter a positive integer: \"))\n",
    "\n",
    "# Check if the input is a positive integer\n",
    "if num <= 0:\n",
    "    print(\"Please enter a positive integer.\")\n",
    "else:\n",
    "    # Calculate and display the table\n",
    "    print(f\"Multiplication Table for {num}:\")\n",
    "    for i in range(1, 11):  # You can change 11 to any other number for a different table size\n",
    "        result = num * i\n",
    "        print(f\"{num} x {i} = {result}\")"
   ]
  }
 ],
 "metadata": {
  "kernelspec": {
   "display_name": "Python 3",
   "language": "python",
   "name": "python3"
  },
  "language_info": {
   "codemirror_mode": {
    "name": "ipython",
    "version": 3
   },
   "file_extension": ".py",
   "mimetype": "text/x-python",
   "name": "python",
   "nbconvert_exporter": "python",
   "pygments_lexer": "ipython3",
   "version": "3.12.0"
  }
 },
 "nbformat": 4,
 "nbformat_minor": 2
}
