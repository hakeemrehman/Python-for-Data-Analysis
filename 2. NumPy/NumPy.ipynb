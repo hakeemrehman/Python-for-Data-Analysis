{
 "cells": [
  {
   "cell_type": "markdown",
   "metadata": {},
   "source": [
    "##### NumPy: Numerical Python\n",
    "    - Library for numerical and scientific computing\n",
    "    - It provides support for large, multi-dimensional arrays and matrices, as well as a variety of high-level mathematical functions to operate on these arrays."
   ]
  },
  {
   "cell_type": "code",
   "execution_count": 1,
   "metadata": {},
   "outputs": [],
   "source": [
    "import numpy as np "
   ]
  },
  {
   "cell_type": "code",
   "execution_count": 18,
   "metadata": {},
   "outputs": [
    {
     "name": "stdout",
     "output_type": "stream",
     "text": [
      "[ 3  4 12 35]\n",
      "<class 'numpy.ndarray'>\n"
     ]
    }
   ],
   "source": [
    "# Create a NumPy Array\n",
    "myarr = np.array([3,4,12,35])\n",
    "print(myarr)\n",
    "print(type(myarr)) # ndarray: n-dimensional Array"
   ]
  },
  {
   "cell_type": "code",
   "execution_count": 19,
   "metadata": {},
   "outputs": [
    {
     "name": "stdout",
     "output_type": "stream",
     "text": [
      "Number of Elements:  4\n",
      "Number of Dimensions:  1\n",
      "Shape:  (4,)\n",
      "Data Type: int32\n"
     ]
    }
   ],
   "source": [
    "# Inside a numpy Array\n",
    "def print_info(myarr):\n",
    "    print(\"Number of Elements: \", myarr.size) # Total Number of elements in the array\n",
    "    print(\"Number of Dimensions: \", myarr.ndim) # number of dimensions\n",
    "    print(\"Shape: \",myarr.shape) # Here returns number of elements in each dimension \n",
    "                    # In two more dimensional array; it returns # of rows and columns \n",
    "    print(\"Data Type:\", myarr.dtype) # Datatype\n",
    "\n",
    "print_info(myarr) # Calling the function"
   ]
  },
  {
   "cell_type": "code",
   "execution_count": 11,
   "metadata": {},
   "outputs": [
    {
     "name": "stdout",
     "output_type": "stream",
     "text": [
      "int32\n",
      "[ 3  4 15 35]\n",
      "int8\n"
     ]
    }
   ],
   "source": [
    "print(myarr.dtype) # datatype\n",
    "\n",
    "myarr1 = np.array([3,4,15,35], dtype = np.int8) # Reducing the required space\n",
    "print(myarr1)\n",
    "print(myarr1.dtype)"
   ]
  },
  {
   "cell_type": "markdown",
   "metadata": {},
   "source": [
    "##### Why NumPy (Numerical Python)?"
   ]
  },
  {
   "cell_type": "code",
   "execution_count": 5,
   "metadata": {},
   "outputs": [
    {
     "name": "stdout",
     "output_type": "stream",
     "text": [
      "[5, 6, 7, 9, 10, 11, 6, 5, 9, 8]\n",
      "[16, 12, 12, 18, 18]\n",
      "Element wise Addition:  [ 2.  -4.2 11.5]\n"
     ]
    }
   ],
   "source": [
    "# Python List Vs NumPy Array\n",
    "L1 = [5,6,7,9,10]\n",
    "L2 = [11,6,5,9,8]\n",
    "print(L1 + L2) # Concatenation not the Addition\n",
    "\n",
    "# Adding the elements of the Lists\n",
    "result = []\n",
    "for a,b in zip(L1,L2):\n",
    "    result.append(a+b)\n",
    "print(result)\n",
    "\n",
    "# Creating ndarrays\n",
    "marr1 = np.array([1.5, -0.2, 8])\n",
    "marr2 = np.array([0.5, -4, 3.5])\n",
    "print(\"Element wise Addition: \",marr1 + marr2) # Addition"
   ]
  },
  {
   "cell_type": "code",
   "execution_count": 9,
   "metadata": {},
   "outputs": [
    {
     "name": "stdout",
     "output_type": "stream",
     "text": [
      "1.6 µs ± 13.4 ns per loop (mean ± std. dev. of 7 runs, 1,000,000 loops each)\n",
      "37 µs ± 2.21 µs per loop (mean ± std. dev. of 7 runs, 10,000 loops each)\n"
     ]
    }
   ],
   "source": [
    "# NumPy array is faster compare to Python List\n",
    "my_arr = np.arange(1000)\n",
    "my_list = list(range(1000))\n",
    "\n",
    "# Computational Time\n",
    "%timeit my_arr2 = my_arr * 2 # NumPy Array\n",
    "%timeit my_list2 = [x * 2 for x in my_list] # Python List"
   ]
  },
  {
   "cell_type": "markdown",
   "metadata": {},
   "source": [
    "##### The NumPy ndarray: A Multidimensional Array Object"
   ]
  },
  {
   "cell_type": "code",
   "execution_count": 21,
   "metadata": {},
   "outputs": [],
   "source": [
    "# Creating ndarrays (1D, 2D & 3D)\n",
    "arr1D = np.array([3,4,5,6,9])\n",
    "arr2D = np.array([[5.6, 1.5, 7], [0.5, -4, 3.5]])\n",
    "arr3D = np.array([[[1.5,2,3], \n",
    "                   [4,5,6], \n",
    "                   [5,8,7]],\n",
    "                  [[3,2,1], \n",
    "                   [4,5,6],\n",
    "                   [8,7,9]]])"
   ]
  },
  {
   "cell_type": "code",
   "execution_count": 22,
   "metadata": {},
   "outputs": [
    {
     "name": "stdout",
     "output_type": "stream",
     "text": [
      "Number of Elements:  5\n",
      "Number of Dimensions:  1\n",
      "Shape:  (5,)\n",
      "Data Type: int32\n",
      "\n",
      "Number of Elements:  6\n",
      "Number of Dimensions:  2\n",
      "Shape:  (2, 3)\n",
      "Data Type: float64\n",
      "\n",
      "Number of Elements:  18\n",
      "Number of Dimensions:  3\n",
      "Shape:  (2, 3, 3)\n",
      "Data Type: float64\n"
     ]
    }
   ],
   "source": [
    "# Calling the Defined function\n",
    "print_info(arr1D)\n",
    "print()\n",
    "print_info(arr2D)\n",
    "print()\n",
    "print_info(arr3D)"
   ]
  },
  {
   "cell_type": "markdown",
   "metadata": {},
   "source": [
    "##### Some functions for creating arrays"
   ]
  },
  {
   "cell_type": "code",
   "execution_count": 13,
   "metadata": {},
   "outputs": [
    {
     "data": {
      "text/plain": [
       "array([0., 0., 0., 0., 0., 0., 0., 0., 0., 0.])"
      ]
     },
     "execution_count": 13,
     "metadata": {},
     "output_type": "execute_result"
    }
   ],
   "source": [
    "# Generate arrays of zeros\n",
    "np.zeros(10)"
   ]
  },
  {
   "cell_type": "code",
   "execution_count": 3,
   "metadata": {},
   "outputs": [
    {
     "data": {
      "text/plain": [
       "array([[0., 0., 0., 0., 0., 0.],\n",
       "       [0., 0., 0., 0., 0., 0.],\n",
       "       [0., 0., 0., 0., 0., 0.]])"
      ]
     },
     "execution_count": 3,
     "metadata": {},
     "output_type": "execute_result"
    }
   ],
   "source": [
    "# Generate (3 X 6)Matrix of zeros\n",
    "np.zeros((3, 6))"
   ]
  },
  {
   "cell_type": "code",
   "execution_count": 6,
   "metadata": {},
   "outputs": [
    {
     "data": {
      "text/plain": [
       "array([[1., 1., 1., 1., 1.],\n",
       "       [1., 1., 1., 1., 1.],\n",
       "       [1., 1., 1., 1., 1.]])"
      ]
     },
     "execution_count": 6,
     "metadata": {},
     "output_type": "execute_result"
    }
   ],
   "source": [
    "# Generate (3 X 5)Matrix of ones\n",
    "np.ones((3,5))"
   ]
  },
  {
   "cell_type": "code",
   "execution_count": 28,
   "metadata": {},
   "outputs": [
    {
     "data": {
      "text/plain": [
       "array([3.18299369e-313, 4.24399158e-313, 6.36598737e-313, 8.48798317e-313,\n",
       "       1.06099790e-311])"
      ]
     },
     "execution_count": 28,
     "metadata": {},
     "output_type": "execute_result"
    }
   ],
   "source": [
    "# Create an empty array with 2 elements\n",
    "np.empty(5) "
   ]
  },
  {
   "cell_type": "code",
   "execution_count": 30,
   "metadata": {},
   "outputs": [
    {
     "data": {
      "text/plain": [
       "array([[0., 0., 0., 0.],\n",
       "       [0., 0., 0., 0.]])"
      ]
     },
     "execution_count": 30,
     "metadata": {},
     "output_type": "execute_result"
    }
   ],
   "source": [
    "# Create an empty (2 X 4) Matrix\n",
    "np.empty((2,4)) "
   ]
  },
  {
   "cell_type": "code",
   "execution_count": 24,
   "metadata": {},
   "outputs": [
    {
     "data": {
      "text/plain": [
       "array([ 0.        ,  2.22222222,  4.44444444,  6.66666667,  8.88888889,\n",
       "       11.11111111, 13.33333333, 15.55555556, 17.77777778, 20.        ])"
      ]
     },
     "execution_count": 24,
     "metadata": {},
     "output_type": "execute_result"
    }
   ],
   "source": [
    "# linspace : Return evenly spaced numbers over a specified interval. \n",
    "np.linspace(0,20,10) #linear Space"
   ]
  },
  {
   "cell_type": "code",
   "execution_count": 15,
   "metadata": {},
   "outputs": [
    {
     "data": {
      "text/plain": [
       "array([[1., 0., 0., 0., 0.],\n",
       "       [0., 1., 0., 0., 0.],\n",
       "       [0., 0., 1., 0., 0.],\n",
       "       [0., 0., 0., 1., 0.],\n",
       "       [0., 0., 0., 0., 1.]])"
      ]
     },
     "execution_count": 15,
     "metadata": {},
     "output_type": "execute_result"
    }
   ],
   "source": [
    "# eye: Creates identity matrix\n",
    "np.eye(5)"
   ]
  },
  {
   "cell_type": "code",
   "execution_count": 6,
   "metadata": {},
   "outputs": [
    {
     "name": "stdout",
     "output_type": "stream",
     "text": [
      "[[1 0 0]\n",
      " [0 2 0]\n",
      " [0 0 3]]\n",
      "[[1 2]\n",
      " [3 4]]\n",
      "[1 4]\n"
     ]
    }
   ],
   "source": [
    "# Given a 1D array \n",
    "a1 = np.diag([1, 2, 3]) # Returns 2D Array (Matrix) with given vales are diagonal elements\n",
    "print(a1)\n",
    "\n",
    "# Given a 2D array \n",
    "a2 = np.array([[1, 2], [3, 4]]) \n",
    "print(np.diag(a2)) # Returns only the diagonal elements"
   ]
  },
  {
   "cell_type": "code",
   "execution_count": 34,
   "metadata": {},
   "outputs": [
    {
     "data": {
      "text/plain": [
       "array([[ 1,  2,  3,  4,  5],\n",
       "       [ 6,  7,  8,  9, 10]])"
      ]
     },
     "execution_count": 34,
     "metadata": {},
     "output_type": "execute_result"
    }
   ],
   "source": [
    "# reshape the array into 2 X 5 Matrix \n",
    "RS_arr = np.arange(1, 11).reshape(2, 5) \n",
    "RS_arr"
   ]
  },
  {
   "cell_type": "markdown",
   "metadata": {},
   "source": [
    "##### Arithmetic with NumPy Arrays\n",
    "    - Any arithmetic operations between equal-size arrays apply the operation element-wise."
   ]
  },
  {
   "cell_type": "code",
   "execution_count": 36,
   "metadata": {},
   "outputs": [
    {
     "name": "stdout",
     "output_type": "stream",
     "text": [
      "Square of each element in arr1 is: [[ 1.    2.25  4.  ]\n",
      " [ 4.    9.   16.  ]]\n",
      "Reciprocal of Each element in arr1 is: [[1.         0.66666667 0.5       ]\n",
      " [0.5        0.33333333 0.25      ]]\n",
      "Element wise Comparisons:  [[False False False]\n",
      " [ True  True  True]]\n",
      "Element wise Addition:  [[ 0.17857143  1.          0.28571429]\n",
      " [ 4.         -0.75        1.14285714]]\n",
      "Element wise Multiplecation with scalar:  [[ 28.    7.5  35. ]\n",
      " [  2.5 -20.   17.5]]\n"
     ]
    }
   ],
   "source": [
    "arr1 = np.array([[1, 1.5, 2], [2, 3, 4]])\n",
    "\n",
    "# Square of each element in arr1\n",
    "print(\"Square of each element in arr1 is:\", arr1 * arr1) # equal to: arr1**2\n",
    "\n",
    "# Reciprocal of Each element  in arr1\n",
    "print(\"Reciprocal of Each element in arr1 is:\", 1/arr1)\n",
    "\n",
    "arr2 = np.array([[5.6, 1.5, 7], [0.5, -4, 3.5]])\n",
    "# Comparisons between arrays of the same size yield Boolean arrays\n",
    "print(\"Element wise Comparisons: \", arr1 > arr2) # returen Boolean array\n",
    "\n",
    "print(\"Element wise Addition: \",arr1 + arr2) # Addition\n",
    "\n",
    "print(\"Element wise Multiplecation with scalar: \",5 * arr2) # Scalar Multiplication"
   ]
  },
  {
   "cell_type": "markdown",
   "metadata": {},
   "source": [
    "##### Indexing and Slicing"
   ]
  },
  {
   "cell_type": "code",
   "execution_count": 19,
   "metadata": {},
   "outputs": [
    {
     "name": "stdout",
     "output_type": "stream",
     "text": [
      "[ 0  2  4  6  8 10 12 14 16 18]\n",
      "10\n",
      "[4 6]\n",
      "[ 0  4  8 12 16]\n",
      "[12 14 16 18]\n",
      "[ 0  6 12 18]\n",
      "[6 8]\n",
      "[1 2 3]\n",
      "3\n"
     ]
    }
   ],
   "source": [
    "arr5 = np.arange(10)*2 # Single Dimensional Array\n",
    "print(arr5)\n",
    "print(arr5[5]) # Return value at index 5\n",
    "print(arr5[2:4]) # Return value at index 2 and 3\n",
    "print(arr5[::2]) # every second element\n",
    "print(arr5[arr5>10]) # elemts those are greater than 10\n",
    "print(arr5[arr5 % 3 == 0]) # select elements those are divisible by 3\n",
    "print(arr5[(arr5 > 4) & (arr5 < 10)]) # select elements > 4 and < 10\n",
    "\n",
    "arr2d = np.array([[1, 2, 3], [4, 5, 6], [7, 8, 9]]) # Two Dimensional Array\n",
    "print(arr2d[0]) # Return first row elemnts\n",
    "print(arr2d[0][2]) # Return first row and thrid column"
   ]
  },
  {
   "cell_type": "code",
   "execution_count": 17,
   "metadata": {},
   "outputs": [
    {
     "data": {
      "text/plain": [
       "array([[0., 0., 0., 0., 0.],\n",
       "       [1., 1., 1., 1., 1.],\n",
       "       [2., 2., 2., 2., 2.],\n",
       "       [3., 3., 3., 3., 3.],\n",
       "       [4., 4., 4., 4., 4.],\n",
       "       [5., 5., 5., 5., 5.],\n",
       "       [6., 6., 6., 6., 6.],\n",
       "       [7., 7., 7., 7., 7.],\n",
       "       [8., 8., 8., 8., 8.]])"
      ]
     },
     "execution_count": 17,
     "metadata": {},
     "output_type": "execute_result"
    }
   ],
   "source": [
    "# Fancy Indexing\n",
    "arr = np.zeros((9, 5))\n",
    "for x in range(9):\n",
    "    arr[x]=x\n",
    "arr    "
   ]
  },
  {
   "cell_type": "markdown",
   "metadata": {},
   "source": [
    "##### How to get unique items and counts from the array?"
   ]
  },
  {
   "cell_type": "code",
   "execution_count": 39,
   "metadata": {},
   "outputs": [
    {
     "name": "stdout",
     "output_type": "stream",
     "text": [
      "[11 12 13 14 15 16 17 18 19 20]\n"
     ]
    }
   ],
   "source": [
    "a = np.array([11, 11, 12, 13, 14, 15, 16, 17, 12, 13, 11, 14, 18, 19, 20])\n",
    "unique_values = np.unique(a) # Return the unique values in your array\n",
    "print(unique_values)"
   ]
  },
  {
   "cell_type": "code",
   "execution_count": 25,
   "metadata": {},
   "outputs": [
    {
     "name": "stdout",
     "output_type": "stream",
     "text": [
      "[11 12 13 14 15 16 17 18 19 20]\n",
      "\n",
      "[ 0  2  3  4  5  6  7 12 13 14]\n"
     ]
    }
   ],
   "source": [
    "# Get the indices of unique values in an array\n",
    "unique_values, indices_list = np.unique(a, return_index=True)\n",
    "print(unique_values)\n",
    "print()\n",
    "print(indices_list)"
   ]
  },
  {
   "cell_type": "code",
   "execution_count": 41,
   "metadata": {},
   "outputs": [
    {
     "name": "stdout",
     "output_type": "stream",
     "text": [
      "[11 12 13 14 15 16 17 18 19 20]\n",
      "[3 2 2 2 1 1 1 1 1 1]\n",
      "11 3\n",
      "12 2\n",
      "13 2\n",
      "14 2\n",
      "15 1\n",
      "16 1\n",
      "17 1\n",
      "18 1\n",
      "19 1\n",
      "20 1\n"
     ]
    }
   ],
   "source": [
    "# Get the frequency count of unique values in an array\n",
    "unique_values, occurrence_count = np.unique(a, return_counts=True)\n",
    "print(unique_values)\n",
    "print(occurrence_count)\n",
    "for a, b in zip(unique_values,occurrence_count):\n",
    "    print(a,b)"
   ]
  },
  {
   "cell_type": "code",
   "execution_count": 29,
   "metadata": {},
   "outputs": [
    {
     "name": "stdout",
     "output_type": "stream",
     "text": [
      "[ 1  2  3  4  5  6  7  8  9 10 11 12]\n",
      "\n",
      "[[ 1  2  3  4]\n",
      " [ 5  6  7  8]\n",
      " [ 9 10 11 12]]\n",
      "\n",
      "[[ 1  2  3  4]\n",
      " [ 5  6  7  8]\n",
      " [ 9 10 11 12]]\n",
      "\n",
      "[0 1 2]\n",
      "\n",
      "[2 1 1]\n",
      "\n"
     ]
    }
   ],
   "source": [
    "# 2D arrays\n",
    "a_2d = np.array([[1, 2, 3, 4], [5, 6, 7, 8], [9, 10, 11, 12], [1, 2, 3, 4]])\n",
    "\n",
    "# Get the unique values\n",
    "unique_values = np.unique(a_2d) \n",
    "print(unique_values); print()\n",
    "\n",
    "# row wise unique values\n",
    "unique_rows = np.unique(a_2d, axis=0) \n",
    "print(unique_rows); print()\n",
    "\n",
    "# To get the unique rows, index position, and occurrence count\n",
    "unique_rows, indices, occurrence_count = np.unique(\n",
    "     a_2d, axis=0, return_counts=True, return_index=True)\n",
    "print(unique_rows); print()\n",
    "print(indices); print()\n",
    "print(occurrence_count); print()"
   ]
  },
  {
   "cell_type": "markdown",
   "metadata": {},
   "source": [
    "##### Basic Statistical Analysis"
   ]
  },
  {
   "cell_type": "code",
   "execution_count": 2,
   "metadata": {},
   "outputs": [
    {
     "name": "stdout",
     "output_type": "stream",
     "text": [
      "Mean: 28.5\n",
      "Median: 27.5\n",
      "Frequency count: {1: 1, 2: 3, 3: 4, 4: 6}\n",
      "Mode: 15\n",
      "Standard Deviation: 13.047988350699889\n",
      "Variance: 170.25\n",
      "Range: 40\n",
      "Q1 is: 16.25\n",
      "Q3 is: 38.75\n",
      "Interquartile Range (IQR): 22.5\n",
      "Outliers: []\n",
      "Minimum Valus:  10\n",
      "Maximum Valus:  50\n",
      "Correlation matrix:\n",
      "[[ 1.        -0.0697034]\n",
      " [-0.0697034  1.       ]]\n"
     ]
    }
   ],
   "source": [
    "# Create a NumPy array with your data\n",
    "data = np.array([10, 15, 15, 20, 25, 30, 35, 40, 45, 50])\n",
    "\n",
    "# Mean\n",
    "mean = np.mean(data)\n",
    "print(\"Mean:\", mean)\n",
    "\n",
    "# Median\n",
    "median = np.median(data)\n",
    "print(\"Median:\", median)\n",
    "\n",
    "# Frequency Count\n",
    "data1 = np.array([1, 2, 2, 2, 3, 3, 3, 3, 4, 4, 4, 4, 4, 4])\n",
    "unique_values, counts = np.unique(data1, return_counts=True)\n",
    "frequency_dict = dict(zip(unique_values, counts))\n",
    "print(\"Frequency count:\", frequency_dict)\n",
    "\n",
    "# Mode\n",
    "unique, counts = np.unique(data, return_counts=True)\n",
    "mode = unique[counts.argmax()]\n",
    "print(\"Mode:\", mode)\n",
    "\n",
    "# Standard Deviation\n",
    "std_dev = np.std(data)\n",
    "print(\"Standard Deviation:\", std_dev)\n",
    "\n",
    "# Variance\n",
    "variance = np.var(data)\n",
    "print(\"Variance:\", variance)\n",
    "\n",
    "# Range\n",
    "data_range = np.ptp(data)\n",
    "print(\"Range:\", data_range)\n",
    "\n",
    "# Q1 & Q3\n",
    "q1 = np.percentile(data, 25)\n",
    "q3 = np.percentile(data, 75)\n",
    "print(\"Q1 is:\", q1)\n",
    "print(\"Q3 is:\", q3)\n",
    "\n",
    "# IQR\n",
    "iqr = q3 - q1\n",
    "print(\"Interquartile Range (IQR):\", iqr)\n",
    "\n",
    "# Outliers\n",
    "lower_bound = q1 - 1.5 * iqr\n",
    "upper_bound = q3 + 1.5 * iqr\n",
    "outliers = [x for x in data if x < lower_bound or x > upper_bound]\n",
    "print(\"Outliers:\", outliers)\n",
    "\n",
    "# Min and Max\n",
    "print(\"Minimum Valus: \",np.min(data))\n",
    "print(\"Maximum Valus: \",np.max(data))\n",
    "\n",
    "# Correlation \n",
    "array1 = np.array([5, 15, 3, 4, 9])\n",
    "array2 = np.array([12, 30, 41, 25, 16])\n",
    "correlation = np.corrcoef(array1, array2)\n",
    "print(\"Correlation matrix:\")\n",
    "print(correlation)"
   ]
  },
  {
   "cell_type": "code",
   "execution_count": 14,
   "metadata": {},
   "outputs": [
    {
     "name": "stdout",
     "output_type": "stream",
     "text": [
      "[500]\n",
      "[625]\n"
     ]
    }
   ],
   "source": [
    "data = np.array([10, 15, 15, 20, 25, 30, 35, 40, 45, 500,625])\n",
    "# Outliers\n",
    "lower_bound = q1 - 1.5 * iqr\n",
    "upper_bound = q3 + 1.5 * iqr\n",
    "\n",
    "# outliers = [x for x in data if x < lower_bound or x > upper_bound]\n",
    "for x in data:\n",
    "    if x < lower_bound or x > upper_bound:\n",
    "        outlier = [x]\n",
    "        print(outlier)"
   ]
  },
  {
   "cell_type": "markdown",
   "metadata": {},
   "source": [
    "##### Random Number Generation"
   ]
  },
  {
   "cell_type": "code",
   "execution_count": 30,
   "metadata": {},
   "outputs": [
    {
     "name": "stdout",
     "output_type": "stream",
     "text": [
      "[ 9.45984243  7.74160371  6.91303188  9.87047206 10.143879   14.50549372\n",
      " 12.32551279 -1.21954769 12.51467375  9.46543117]\n",
      "[[ 0.03261194  0.49524247  0.19053512  0.69998333]\n",
      " [-0.09229183 -1.27621355  1.2380275   0.23820416]\n",
      " [-0.40437341 -1.05047168 -0.72923494  0.19515158]\n",
      " [ 1.28893311 -0.76385439 -0.28381893 -0.6389499 ]]\n",
      "Random integer: [73 69  9 50 12 67 60 11 37 51]\n",
      "Random float: 0.4936969247509586\n",
      "Random floats array: [[0.56815782 0.60272131 0.0684117 ]\n",
      " [0.93385671 0.73288439 0.46229359]\n",
      " [0.68686605 0.3755108  0.27068118]]\n"
     ]
    }
   ],
   "source": [
    "# Random Numbers (Normal Probability Distribution)\n",
    "mean = 10\n",
    "std_dev = 5\n",
    "num_samples = 10\n",
    "# num_samples = size=(3, 3)\n",
    "samples_Nor = np.random.normal(mean, std_dev, num_samples)\n",
    "print(samples_Nor)\n",
    "\n",
    "# Standard Normal Distribution\n",
    "samples_SND = np.random.standard_normal(size=(4, 4))\n",
    "print(samples_SND)\n",
    "\n",
    "# Generate an array of 10 random integers between 1 and 100.\n",
    "random_integer = np.random.randint(1, 101,10)\n",
    "print(\"Random integer:\", random_integer)\n",
    "\n",
    "# Generate a random float between 0 and 1\n",
    "random_float = np.random.random()\n",
    "print(\"Random float:\", random_float)\n",
    "\n",
    "# Generate a 3x3 array of random floats between 0 and 1\n",
    "random_array = np.random.random((3, 3))\n",
    "print(\"Random floats array:\", random_array)\n"
   ]
  },
  {
   "cell_type": "code",
   "execution_count": 15,
   "metadata": {},
   "outputs": [
    {
     "name": "stdout",
     "output_type": "stream",
     "text": [
      "Coin flip result: Tails\n",
      "Die roll result: 2\n"
     ]
    }
   ],
   "source": [
    "# Simulate a coin flip (heads or tails).\n",
    "coin_flip = np.random.choice([\"Heads\", \"Tails\"])\n",
    "print(\"Coin flip result:\", coin_flip)\n",
    "\n",
    "# Generate a random integer between 1 and 6 to simulate a die roll\n",
    "die_roll = np.random.randint(1, 7)\n",
    "print(\"Die roll result:\", die_roll)"
   ]
  },
  {
   "cell_type": "markdown",
   "metadata": {},
   "source": [
    "##### Basic Mathematics"
   ]
  },
  {
   "cell_type": "code",
   "execution_count": 9,
   "metadata": {},
   "outputs": [],
   "source": [
    "# Creating Vectors and Matrices\n",
    "# Create NumPy arrays for vectors\n",
    "vector1 = np.array([1, 2, 3])\n",
    "vector2 = np.array([4, 5, 6])\n",
    "\n",
    "# Create NumPy arrays for matrices\n",
    "matrix1 = np.array([[1, 2], [3, 4]])\n",
    "matrix2 = np.array([[5, 6], [7, 8]])"
   ]
  },
  {
   "cell_type": "markdown",
   "metadata": {},
   "source": [
    "#### Unary Universal Functions: \n",
    "- Unary universal functions (also known as ufuncs) are NumPy functions that operate element-wise on arrays, producing a new array as output."
   ]
  },
  {
   "cell_type": "code",
   "execution_count": 7,
   "metadata": {},
   "outputs": [
    {
     "name": "stdout",
     "output_type": "stream",
     "text": [
      "Square root of the array: [2. 3. 4. 5.]\n",
      "Exponential of the array: [5.45981500e+01 8.10308393e+03 8.88611052e+06 7.20048993e+10]\n",
      "Natural logarithm of the array: [1.38629436 2.19722458 2.77258872 3.21887582]\n",
      "Absolute values of the array: [ 3  5  7 10  1]\n",
      "[  9  25  49 100   1]\n"
     ]
    }
   ],
   "source": [
    "arr = np.array([4, 9, 16, 25]) # Given array\n",
    "sqrt_arr = np.sqrt(arr) # Calculate the square root of each element\n",
    "print(\"Square root of the array:\", sqrt_arr)\n",
    "\n",
    "exp_arr = np.exp(arr) # Calculate the exponential of each element\n",
    "print(\"Exponential of the array:\", exp_arr)\n",
    "\n",
    "log_arr = np.log(arr) # Calculate the natural logarithm of each element\n",
    "print(\"Natural logarithm of the array:\", log_arr)\n",
    "\n",
    "arr = np.array([-3, 5, -7, 10, -1]) # Given array with both positive and negative values\n",
    "abs_arr = np.abs(arr) # Calculate the absolute value of each element\n",
    "print(\"Absolute values of the array:\", abs_arr)\n",
    "\n",
    "arr = np.array([-3, 5, -7, 10, -1])\n",
    "result = np.square(arr)  # Square each element\n",
    "print(result)"
   ]
  },
  {
   "cell_type": "markdown",
   "metadata": {},
   "source": [
    "##### Binary universal functions\n",
    "- in NumPy are functions that operate on two input arrays and return a single output array."
   ]
  },
  {
   "cell_type": "code",
   "execution_count": 98,
   "metadata": {},
   "outputs": [
    {
     "name": "stdout",
     "output_type": "stream",
     "text": [
      "Result of addition: [14  7  9]\n",
      "Result of subtraction: [ 6 -3 -3]\n",
      "Result of multiplication: [40 10 18]\n",
      "Result of division: [2.5 0.4 0.5]\n",
      "Element-wise maximum: [10  5  6]\n"
     ]
    }
   ],
   "source": [
    "# Create two arrays\n",
    "arr1 = np.array([10, 2, 3])\n",
    "arr2 = np.array([4, 5, 6])\n",
    "\n",
    "# Add the two arrays element-wise\n",
    "result = np.add(arr1, arr2)\n",
    "print(\"Result of addition:\", result)\n",
    "\n",
    "# Subtract arr2 from arr1 element-wise\n",
    "result = np.subtract(arr1, arr2)\n",
    "print(\"Result of subtraction:\", result)\n",
    "\n",
    "# Multiply the two arrays element-wise\n",
    "result = np.multiply(arr1, arr2)\n",
    "print(\"Result of multiplication:\", result)\n",
    "\n",
    "# Divide arr1 by arr2 element-wise\n",
    "result = np.divide(arr1, arr2)\n",
    "print(\"Result of division:\", result)\n",
    "\n",
    "# Calculate the element-wise maximum between the two arrays\n",
    "result = np.maximum(arr1, arr2)\n",
    "print(\"Element-wise maximum:\", result)"
   ]
  },
  {
   "cell_type": "markdown",
   "metadata": {},
   "source": [
    "##### Basic Linear Algebra"
   ]
  },
  {
   "cell_type": "code",
   "execution_count": 13,
   "metadata": {},
   "outputs": [
    {
     "name": "stdout",
     "output_type": "stream",
     "text": [
      "Eigenvalues: [5. 2.]\n",
      "Eigenvectors:\n",
      " [[ 0.89442719 -0.70710678]\n",
      " [ 0.4472136   0.70710678]]\n"
     ]
    }
   ],
   "source": [
    "vector1 = np.array([10, 2, 3])\n",
    "vector2 = np.array([4, 5, 6])\n",
    "\n",
    "# Vector Addition\n",
    "result_vector = vector1 + vector2\n",
    "\n",
    "# Vector Subtraction\n",
    "result_vector = vector1 - vector2\n",
    "\n",
    "# Scalar Multiplication\n",
    "scalar = 2\n",
    "result_vector = scalar * vector1\n",
    "\n",
    "# Dot Product of Vectors\n",
    "dot_product = np.dot(vector1, vector2)\n",
    "\n",
    "matrix1 = np.array([[5, 1], [7, 4]])\n",
    "matrix2 = np.array([[2, 5], [1, 3]])\n",
    "# Matrix Multiplication\n",
    "result_matrix = np.dot(matrix1, matrix2)\n",
    "\n",
    "# Matrix Transposition\n",
    "A = np.array([[25, 15], [17, 41]])\n",
    "transposed = A.T\n",
    "\n",
    "# Matrix Inversion - inverse of a square matrix\n",
    "A = np.array([[11, 22], [30, 14]])\n",
    "inverse = np.linalg.inv(A)\n",
    "\n",
    "# Eigenvalues and Eigenvectors\n",
    "A = np.array([[4, 2], [1, 3]])\n",
    "eigenvalues, eigenvectors = np.linalg.eig(A)\n",
    "print(\"Eigenvalues:\", eigenvalues)\n",
    "print(\"Eigenvectors:\\n\", eigenvectors)"
   ]
  },
  {
   "cell_type": "markdown",
   "metadata": {},
   "source": [
    "##### Solving Linear Systems of Equations"
   ]
  },
  {
   "cell_type": "code",
   "execution_count": 43,
   "metadata": {},
   "outputs": [
    {
     "data": {
      "text/plain": [
       "array([1., 2.])"
      ]
     },
     "execution_count": 43,
     "metadata": {},
     "output_type": "execute_result"
    }
   ],
   "source": [
    "A = np.array([[2, 3], [1, 2]])\n",
    "b = np.array([8, 5])\n",
    "\n",
    "x = np.linalg.solve(A, b)\n",
    "x"
   ]
  },
  {
   "cell_type": "markdown",
   "metadata": {},
   "source": [
    "##### Basic Calculus"
   ]
  },
  {
   "cell_type": "code",
   "execution_count": 41,
   "metadata": {},
   "outputs": [
    {
     "name": "stdout",
     "output_type": "stream",
     "text": [
      "[18  6  2]\n",
      "[1.5 1.  1.  1.  0. ]\n"
     ]
    }
   ],
   "source": [
    "# Derivative\n",
    "coefficients = [6, 3, 2, 1]  # Represents f(x) = 6x^3 + 3x^2 + 2x + 1\n",
    "derivative_coefficients = np.polyder(coefficients)\n",
    "print(derivative_coefficients)\n",
    "\n",
    "# Integration\n",
    "coefficients = [6, 3, 2, 1]  # Represents f(x) = 6x^3 + 3x^2 + 2x + 1\n",
    "integral_coefficients = np.polyint(coefficients)\n",
    "print(integral_coefficients)"
   ]
  }
 ],
 "metadata": {
  "kernelspec": {
   "display_name": "Python 3",
   "language": "python",
   "name": "python3"
  },
  "language_info": {
   "codemirror_mode": {
    "name": "ipython",
    "version": 3
   },
   "file_extension": ".py",
   "mimetype": "text/x-python",
   "name": "python",
   "nbconvert_exporter": "python",
   "pygments_lexer": "ipython3",
   "version": "3.12.0"
  }
 },
 "nbformat": 4,
 "nbformat_minor": 2
}
